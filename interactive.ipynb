{
  "nbformat": 4,
  "nbformat_minor": 0,
  "metadata": {
    "kernelspec": {
      "display_name": "Python 3",
      "language": "python",
      "name": "python3"
    },
    "language_info": {
      "codemirror_mode": {
        "name": "ipython",
        "version": 3
      },
      "file_extension": ".py",
      "mimetype": "text/x-python",
      "name": "python",
      "nbconvert_exporter": "python",
      "pygments_lexer": "ipython3",
      "version": "3.7.1"
    },
    "colab": {
      "name": "interactive.ipynb",
      "provenance": []
    }
  },
  "cells": [
    {
      "cell_type": "code",
      "metadata": {
        "id": "hq0ReSUTLExQ",
        "colab_type": "code",
        "colab": {}
      },
      "source": [
        "import sys\n",
        "from analytical import *"
      ],
      "execution_count": 0,
      "outputs": []
    },
    {
      "cell_type": "markdown",
      "metadata": {
        "id": "uauVOG3YLExe",
        "colab_type": "text"
      },
      "source": [
        "# The model\n",
        "\n",
        "We are trying to infer 4 key variables\n",
        "* Prevalence $p$.\n",
        "* Testing rate $f$ of mild or asympromatic carriers.\n",
        "* Total infected population $R_p$.\n",
        "\n",
        "We are given as data:\n",
        "* The number of deaths $D$ that tested positive with COVID.\n",
        "* The number of recoveries $R$ that tested positive with COVID.\n",
        "* The total population $P$.\n",
        "\n",
        "We have to make assumptions about:\n",
        "* The Case Fatality Rate (CFR) due to COVID $\\text{CFR}_c$.\n",
        "* The CFR due to other reasons with similar symptoms as COVID $\\text{CFR}_o$. We set it to $0.01/100$ (Annual mortality of 1% * 1/12 months * ~1/10 serious conditions mau be confused.)\n",
        "* The increase in risk to be infected with COVID if in a serious condition $\\mu$. We usually set $\\mu=10$, namely being in a serious medical condition leading to death (for other reasons) also exposes a patient to the equavalent of x10 to catch COVID -- due to hospital infection rates.\n",
        "\n",
        "The system of equations we need to solve are:\n",
        "* The hospital prevalence $p_h$:\n",
        "\\begin{equation}\n",
        "h_p = 1 - (1 - p)^{\\mu}\n",
        "\\end{equation}\n",
        "* The actual deaths due to COVID. All deaths minus the ones due to other causes that still tested positive for COVID:\n",
        "\\begin{equation}\n",
        "D_a = \\max{(D - p_h \\cdot \\text{CFR}_o \\cdot P, 1)}\n",
        "\\end{equation}\n",
        "* The total infections in the population is actual infected and deaths due to Covid\n",
        "\\begin{equation}\n",
        "p = (R_p + D) / P\n",
        "\\end{equation}\n",
        "* The observed recoveries are a sample of the actual one based on testing rates.\n",
        "\\begin{equation}\n",
        "R = f \\cdot R_p\n",
        "\\end{equation}\n",
        "* The definition of the Case Fatality rate for COVID is:\n",
        "\\begin{equation}\n",
        "\\text{CFR}_c = \\frac{D_a}{D_a + R_p}\n",
        "\\end{equation}\n",
        "\n",
        "This system of equaltions is non-linear but we can solve it numericaly using iterative methods.\n",
        "\n",
        "\n",
        "\n",
        "\n",
        "\n"
      ]
    },
    {
      "cell_type": "markdown",
      "metadata": {
        "id": "6dX_jWGbLExg",
        "colab_type": "text"
      },
      "source": [
        "# Results for different $\\text{CFR}_c$ "
      ]
    },
    {
      "cell_type": "code",
      "metadata": {
        "id": "ZlDRPRkRLExi",
        "colab_type": "code",
        "colab": {},
        "outputId": "94e6c312-e9ef-40bf-9b26-a70a44809146"
      },
      "source": [
        "# Since we measure prevalence based on outcomes, the figures lag by about 20 days.\n",
        "CFR_covid = 0.01 # CFR medium high: 1%\n",
        "hospital_infection_mult = 10.0\n",
        "make_table(populations, CFR_covid, hospital_infection_mult, flx=sys.stdout)"
      ],
      "execution_count": 0,
      "outputs": [
        {
          "output_type": "stream",
          "text": [
            "Assumptions: COVID CFR:  1.00% In Hospital factor: x10.0\n",
            "Country           Prev      CFR  Testing   Comorb.    Infected\n",
            "--------------------------------------------------------------\n",
            "Japan            0.00%    1.00%    6.22%    9.09%        3,776\n",
            "USA              0.01%    1.00%    0.63%    9.09%       46,485\n",
            "Germany          0.01%    1.00%    4.10%    9.09%       11,059\n",
            "Italy            0.92%    1.00%    1.36%    8.76%      548,407\n",
            "Spain            0.43%    1.00%    1.69%    8.93%      198,779\n",
            "Belgium          0.07%    1.00%    5.07%    9.06%        7,914\n",
            "Switzerland      0.13%    1.00%    1.23%    9.04%       10,614\n",
            "Iran             0.20%    1.00%    5.14%    9.02%      163,051\n",
            "Korea, South     0.02%    1.00%   31.72%    9.08%        9,980\n",
            "United Kingdom   0.05%    1.00%    0.45%    9.07%       30,125\n",
            "Netherlands      0.11%    1.00%    0.01%    9.05%       19,159\n",
            "France           0.12%    1.00%    2.84%    9.05%       77,359\n"
          ],
          "name": "stdout"
        }
      ]
    },
    {
      "cell_type": "code",
      "metadata": {
        "id": "kLQOvTQBLExo",
        "colab_type": "code",
        "colab": {},
        "outputId": "0c5613b5-6cac-4acd-8a11-44cef6da1efd"
      },
      "source": [
        "# Since we measure prevalence based on outcomes, the figures lag by about 20 days.\n",
        "CFR_covid = 0.001 # CFR low: 0.1%\n",
        "hospital_infection_mult = 10.0\n",
        "make_table(populations, CFR_covid, hospital_infection_mult, flx=sys.stdout)"
      ],
      "execution_count": 0,
      "outputs": [
        {
          "output_type": "stream",
          "text": [
            "Assumptions: COVID CFR:  0.10% In Hospital factor: x10.0\n",
            "Country           Prev      CFR  Testing   Comorb.    Infected\n",
            "--------------------------------------------------------------\n",
            "Japan            0.02%    0.10%    1.12%   49.98%       20,965\n",
            "USA              0.08%    0.10%    0.11%   49.91%      258,443\n",
            "Germany          0.07%    0.10%    0.74%   49.92%       61,479\n",
            "Italy            5.64%    0.10%    0.22%   43.84%    3,406,502\n",
            "Spain            2.50%    0.10%    0.29%   47.22%    1,162,541\n",
            "Belgium          0.39%    0.10%    0.91%   49.56%       44,296\n",
            "Switzerland      0.70%    0.10%    0.22%   49.22%       59,807\n",
            "Iran             1.14%    0.10%    0.90%   48.72%      927,409\n",
            "Korea, South     0.11%    0.10%    5.70%   49.88%       55,523\n",
            "United Kingdom   0.25%    0.10%    0.08%   49.72%      168,119\n",
            "Netherlands      0.63%    0.10%    0.00%   49.29%      107,789\n",
            "France           0.65%    0.10%    0.51%   49.27%      435,423\n"
          ],
          "name": "stdout"
        }
      ]
    },
    {
      "cell_type": "code",
      "metadata": {
        "id": "ur4tyUBALExt",
        "colab_type": "code",
        "colab": {},
        "outputId": "2af8da19-7721-4c00-9880-fde3b769a1f1"
      },
      "source": [
        "# Since we measure prevalence based on outcomes, the figures lag by about 20 days.\n",
        "CFR_covid_low = 0.0001 # CFR very low: 0.01%\n",
        "hospital_infection_mult = 10.0\n",
        "make_table(populations, CFR_covid_low, hospital_infection_mult, flx=sys.stdout)"
      ],
      "execution_count": 0,
      "outputs": [
        {
          "output_type": "stream",
          "text": [
            "Assumptions: COVID CFR:  0.01% In Hospital factor: x10.0\n",
            "Country           Prev      CFR  Testing   Comorb.    Infected\n",
            "--------------------------------------------------------------\n",
            "Japan            0.03%    0.01%    0.62%   90.90%       38,186\n",
            "USA              0.14%    0.01%    0.06%   90.86%      472,266\n",
            "Germany          0.14%    0.01%    0.40%   90.86%      112,317\n",
            "Italy           16.65%    0.01%    0.07%   83.43%    10,066,389\n",
            "Spain            5.30%    0.01%    0.14%   88.79%    2,471,375\n",
            "Belgium          0.72%    0.01%    0.49%   90.64%       82,301\n",
            "Switzerland      1.32%    0.01%    0.12%   90.41%      113,058\n",
            "Iran             2.22%    0.01%    0.47%   90.06%    1,799,738\n",
            "Korea, South     0.20%    0.01%    3.12%   90.84%      101,616\n",
            "United Kingdom   0.47%    0.01%    0.04%   90.73%      310,069\n",
            "Netherlands      1.18%    0.01%    0.00%   90.46%      202,948\n",
            "France           1.23%    0.01%    0.27%   90.44%      820,873\n"
          ],
          "name": "stdout"
        }
      ]
    },
    {
      "cell_type": "markdown",
      "metadata": {
        "id": "KjrUpIWLLExx",
        "colab_type": "text"
      },
      "source": [
        "# Projection forward\n",
        "\n",
        "Since the data used to estimate prevalence relates to outcomes, we know that the estimation lags behind by the amount of typical time it takes to have an outcome. From studies we consider this to be about 20 days. We therefore build a projection of the prevalence based on a simple model:\n",
        "* The increase in prevalence follows the difference equation. Its solution is a logistic curve, and 0.6 represents 60% of the population being infected (after which herd immunity kicks in).\n",
        "\\begin{equation}\n",
        "dp = (p \\cdot r - p) \\cdot (0.6 - p)\n",
        "\\end{equation}\n",
        "* The rate of growth $r$ is computed based on the 3 previous days of growth.\n",
        "* We assume a low CFR (0.01%).\n",
        "\n",
        "The resulting projections are:\n",
        "\n",
        "![COVID prevalence projections for key countries](https://github.com/gdanezis/COVID-Prevalence/blob/master/figures/All-prev.png?raw=1)\n",
        "\n",
        "The inflence of $\\text{CFR}_c$ is not dramatic, but only moves prevance rates by 2 weeks. For the United Kingdom the plot a range of $\\text{CFR}_c$ in $[1\\%-0.01\\%]$ \n",
        "\n",
        "![COVID prevalence projections for key countries](https://github.com/gdanezis/COVID-Prevalence/blob/master/figures/United%20Kingdom-prev.png?raw=1)"
      ]
    },
    {
      "cell_type": "code",
      "metadata": {
        "id": "wikbQE12LExz",
        "colab_type": "code",
        "colab": {}
      },
      "source": [
        ""
      ],
      "execution_count": 0,
      "outputs": []
    }
  ]
}