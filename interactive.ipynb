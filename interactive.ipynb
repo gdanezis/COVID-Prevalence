{
 "cells": [
  {
   "cell_type": "code",
   "execution_count": 1,
   "metadata": {},
   "outputs": [],
   "source": [
    "import sys\n",
    "from analytical import *"
   ]
  },
  {
   "cell_type": "markdown",
   "metadata": {},
   "source": [
    "# The model\n",
    "\n",
    "We are trying to infer 4 key variables\n",
    "* Prevalence $p$.\n",
    "* Testing rate $f$ of mild or asympromatic carriers.\n",
    "* Total infected population $Rp$.\n",
    "\n",
    "We are given as data:\n",
    "* The number of deaths $D$ that tested positive with COVID.\n",
    "* The number of recoveries $R$ that tested positive with COVID.\n",
    "* The total population $P$.\n",
    "\n",
    "We have to make assumptions about:\n",
    "* The Case Fatality Rate (CFR) due to COVID $\\text{CFR}_c$.\n",
    "* The CFR due to other reasons with similar symptoms as COVID $\\text{CFR}_o$. We set it to $0.01/100$ (Annual mortality of 1% * 1/12 months * ~1/10 serious conditions mau be confused.)\n",
    "* The increase in risk to be infected with COVID if in a serious condition $\\mu$. We usually set $\\mu=10$, namely being in a serious medical condition leading to death (for other reasons) also exposes a patient to the equavalent of x10 to catch COVID -- due to hospital infection rates.\n",
    "\n",
    "The system of equations we need to solve are:\n",
    "* The hospital prevalence $p_h$:\n",
    "\\begin{equation}\n",
    "h_p = 1 - (1 - p)^{\\mu}\n",
    "\\end{equation}\n",
    "* The actual deaths due to COVID. All deaths minus the ones due to other causes that still tested positive for COVID:\n",
    "\\begin{equation}\n",
    "D_a = \\max{(D - p_h \\cdot \\text{CFR}_o \\cdot P, 1)}\n",
    "\\end{equation}\n",
    "* The total infections is the population is actual infected and deaths due to Covid\n",
    "\\begin{equation}\n",
    "p = (R_p + D) / P\n",
    "\\end{equation}\n",
    "* The observed recoveries are a fraction of the actual one based on testing rates.\n",
    "\\begin{equation}\n",
    "R = f \\cdot R_p\n",
    "\\end{equation}\n",
    "* The definition of the Case Fatality Rate is, the number of deaths due to the virus, devided by the number of infections (sum of all dead with virus, and those recovered).\n",
    "\\begin{equation}\n",
    "\\text{CFR}_c = \\frac{D_a}{D + R_p}\n",
    "\\end{equation}\n",
    "\n",
    "This system of equaltions is non-linear but we can solve it numericaly using iterative methods.\n",
    "\n",
    "\n",
    "\n",
    "\n",
    "\n"
   ]
  },
  {
   "cell_type": "markdown",
   "metadata": {},
   "source": [
    "# Results for different $\\text{CFR}_c$ "
   ]
  },
  {
   "cell_type": "markdown",
   "metadata": {},
   "source": [
    "### Discussion for CFR=1%\n",
    "\n",
    "A CFR of around 1%-2% is an estimate that was feared early on from experiences in China and elsewhere. However, given this CFR the prevalence in South Korea is so small that the resting rate should be close to 31%. In face we know that about 1-in-170 people have been tested there (huge, but not 31%), weakening the evidence for such a CFR. Other testing rates also seem an order of magniture off. Comorbidity figures are much lower than those reported from Italy."
   ]
  },
  {
   "cell_type": "code",
   "execution_count": 2,
   "metadata": {
    "scrolled": true
   },
   "outputs": [
    {
     "name": "stdout",
     "output_type": "stream",
     "text": [
      "Assumptions: COVID CFR:  1.00% In Hospital factor: x5.0\n",
      "Country           Prev      CFR  Testing   Comorb.    Infected\n",
      "--------------------------------------------------------------\n",
      "Japan            0.00%    1.00%    5.94%    4.76%        3,958\n",
      "USA              0.02%    1.00%    0.61%    4.76%       48,721\n",
      "Germany          0.01%    1.00%    3.91%    4.76%       11,591\n",
      "Italy            0.96%    1.00%    1.30%    4.68%      573,208\n",
      "Spain            0.45%    1.00%    1.61%    4.72%      208,073\n",
      "Belgium          0.07%    1.00%    4.84%    4.76%        8,293\n",
      "Switzerland      0.13%    1.00%    1.18%    4.75%       11,121\n",
      "Iran             0.21%    1.00%    4.90%    4.74%      170,794\n",
      "Korea, South     0.02%    1.00%   30.27%    4.76%       10,460\n",
      "United Kingdom   0.05%    1.00%    0.43%    4.76%       31,571\n",
      "Netherlands      0.12%    1.00%    0.01%    4.75%       20,074\n",
      "France           0.12%    1.00%    2.71%    4.75%       81,054\n"
     ]
    }
   ],
   "source": [
    "# Since we measure prevalence based on outcomes, the figures lag by about 20 days.\n",
    "CFR_covid = 0.01 # CFR medium high: 1%\n",
    "hospital_infection_mult = 5.0\n",
    "make_table(populations, CFR_covid, hospital_infection_mult, flx=sys.stdout)"
   ]
  },
  {
   "cell_type": "markdown",
   "metadata": {},
   "source": [
    "### Discussion for CFR=0.1%\n",
    "\n",
    "A CFR of 0.1% is on the low side, and lower than one estimated by most studies. In fact it would put COVID-19 on par with seasonal viruses in terms of fatality rate. Such a CFR would require Italy and Spain to have had a single digit percentage of their populations infected in early March, which means that by now (end of March) about 50% of the population must have had COVID-19 (if the increase is at a similar rate, see projection section below). The testing rate for South Korea, and others, is still too large (1-in-20 rather than 1-in-170)."
   ]
  },
  {
   "cell_type": "code",
   "execution_count": 3,
   "metadata": {},
   "outputs": [
    {
     "name": "stdout",
     "output_type": "stream",
     "text": [
      "Assumptions: COVID CFR:  0.10% In Hospital factor: x5.0\n",
      "Country           Prev      CFR  Testing   Comorb.    Infected\n",
      "--------------------------------------------------------------\n",
      "Japan            0.02%    0.10%    0.84%   33.32%       27,962\n",
      "USA              0.11%    0.10%    0.09%   33.29%      344,391\n",
      "Germany          0.10%    0.10%    0.55%   33.29%       81,931\n",
      "Italy            7.00%    0.10%    0.18%   30.30%    4,229,650\n",
      "Spain            3.22%    0.10%    0.22%   31.92%    1,500,361\n",
      "Belgium          0.52%    0.10%    0.68%   33.10%       58,780\n",
      "Switzerland      0.92%    0.10%    0.17%   32.92%       79,031\n",
      "Iran             1.50%    0.10%    0.69%   32.67%    1,218,232\n",
      "Korea, South     0.14%    0.10%    4.28%   33.27%       73,959\n",
      "United Kingdom   0.34%    0.10%    0.06%   33.18%      223,499\n",
      "Netherlands      0.83%    0.10%    0.00%   32.96%      142,571\n",
      "France           0.86%    0.10%    0.38%   32.95%      575,753\n"
     ]
    }
   ],
   "source": [
    "# Since we measure prevalence based on outcomes, the figures lag by about 20 days.\n",
    "CFR_covid = 0.001 # CFR low: 0.1%\n",
    "hospital_infection_mult = 5.0\n",
    "make_table(populations, CFR_covid, hospital_infection_mult, flx=sys.stdout)"
   ]
  },
  {
   "cell_type": "markdown",
   "metadata": {},
   "source": [
    "### Discussion for CFR=0.001\n",
    "\n",
    "This is a negligible Case Fatality rate, and as a result most deaths with COVID are due to other reasons rather than the COVID virus. As a result the comorbidity rates are high (>90%) which is compatible with what was observed in Italy. This scenario would mean that Italy has long reached now the >60% herd immunity threshold, and we should be seeing the tail end of the epidemic soon."
   ]
  },
  {
   "cell_type": "code",
   "execution_count": 4,
   "metadata": {},
   "outputs": [
    {
     "name": "stdout",
     "output_type": "stream",
     "text": [
      "Assumptions: COVID CFR:  0.01% In Hospital factor: x10.0\n",
      "Country           Prev      CFR  Testing   Comorb.    Infected\n",
      "--------------------------------------------------------------\n",
      "Japan            0.03%    0.01%    0.62%   90.90%       38,186\n",
      "USA              0.14%    0.01%    0.06%   90.86%      472,266\n",
      "Germany          0.14%    0.01%    0.40%   90.86%      112,317\n",
      "Italy           16.65%    0.01%    0.07%   83.43%    10,066,389\n",
      "Spain            5.30%    0.01%    0.14%   88.79%    2,471,375\n",
      "Belgium          0.72%    0.01%    0.49%   90.64%       82,301\n",
      "Switzerland      1.32%    0.01%    0.12%   90.41%      113,058\n",
      "Iran             2.22%    0.01%    0.47%   90.06%    1,799,738\n",
      "Korea, South     0.20%    0.01%    3.12%   90.84%      101,616\n",
      "United Kingdom   0.47%    0.01%    0.04%   90.73%      310,069\n",
      "Netherlands      1.18%    0.01%    0.00%   90.46%      202,948\n",
      "France           1.23%    0.01%    0.27%   90.44%      820,873\n"
     ]
    }
   ],
   "source": [
    "# Since we measure prevalence based on outcomes, the figures lag by about 20 days.\n",
    "CFR_covid_low = 0.0001 # CFR very low: 0.01%\n",
    "hospital_infection_mult = 10.0\n",
    "make_table(populations, CFR_covid_low, hospital_infection_mult, flx=sys.stdout)"
   ]
  },
  {
   "cell_type": "markdown",
   "metadata": {},
   "source": [
    "# Projection forward\n",
    "\n",
    "Since the data used to estimate prevalence relates to outcomes, we know that the estimation lags behind by the amount of typical time it takes to have an outcome. From studies we consider this to be about 20 days. We therefore build a projection of the prevalence based on a simple model:\n",
    "* The increase in prevalence follows the difference equation. Its solution is a logistic curve, and 0.6 represents 60% of the population being infected (after which herd immunity kicks in).\n",
    "\\begin{equation}\n",
    "dp = (p \\cdot r - p) \\cdot (0.6 - p)\n",
    "\\end{equation}\n",
    "* The rate of growth $r$ is computed based on the 3 previous days of growth.\n",
    "* We assume a low CFR (0.01%).\n",
    "\n",
    "The resulting projections are:\n",
    "\n",
    "![COVID prevalence projections for key countries](figures/All-prev.png)\n",
    "\n",
    "The inflence of $\\text{CFR}_c$ is not dramatic, but only moves prevance rates by 2 weeks. For the United Kingdom the plot a range of $\\text{CFR}_c$ in $[1\\%-0.01\\%]$ \n",
    "\n",
    "![COVID prevalence projections for key countries](figures/United%20Kingdom-prev.png)\n",
    "\n",
    "The same plot for Italy:\n",
    "\n",
    "![COVID prevalence projections for key countries](figures/Italy-prev.png)"
   ]
  },
  {
   "cell_type": "code",
   "execution_count": null,
   "metadata": {},
   "outputs": [],
   "source": []
  }
 ],
 "metadata": {
  "kernelspec": {
   "display_name": "Python 3",
   "language": "python",
   "name": "python3"
  },
  "language_info": {
   "codemirror_mode": {
    "name": "ipython",
    "version": 3
   },
   "file_extension": ".py",
   "mimetype": "text/x-python",
   "name": "python",
   "nbconvert_exporter": "python",
   "pygments_lexer": "ipython3",
   "version": "3.7.1"
  }
 },
 "nbformat": 4,
 "nbformat_minor": 4
}
